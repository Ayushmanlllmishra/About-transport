{
  "nbformat": 4,
  "nbformat_minor": 0,
  "metadata": {
    "colab": {
      "provenance": [],
      "toc_visible": true,
      "authorship_tag": "ABX9TyPXfxKvYr1JBEsIfSsxd3sD",
      "include_colab_link": true
    },
    "kernelspec": {
      "name": "python3",
      "display_name": "Python 3"
    },
    "language_info": {
      "name": "python"
    }
  },
  "cells": [
    {
      "cell_type": "markdown",
      "metadata": {
        "id": "view-in-github",
        "colab_type": "text"
      },
      "source": [
        "<a href=\"https://colab.research.google.com/github/Ayushmanlllmishra/About-transport/blob/main/Untitled0.ipynb\" target=\"_parent\"><img src=\"https://colab.research.google.com/assets/colab-badge.svg\" alt=\"Open In Colab\"/></a>"
      ]
    },
    {
      "cell_type": "code",
      "metadata": {
        "colab": {
          "base_uri": "https://localhost:8080/"
        },
        "id": "d0782a44",
        "outputId": "2458222e-ffe7-48ba-fbc4-651f95a85d5b"
      },
      "source": [
        "!python bot.py"
      ],
      "execution_count": null,
      "outputs": [
        {
          "metadata": {
            "tags": null
          },
          "name": "stdout",
          "output_type": "stream",
          "text": [
            "[2025-08-18 10:11:22] [INFO] 🤖 Starting Free Data Recharge Bot...\n",
            "[2025-08-18 10:11:22] [INFO] 📊 Database: recharge_bot.db\n",
            "[2025-08-18 10:11:22] [INFO] 📋 Requests: recharge_requests.txt\n",
            "[2025-08-18 10:11:22] [INFO] 👤 Bot Username: @Data_donar_bot\n",
            "[2025-08-18 10:11:22] [INFO] 📝 Log File: bot.log\n",
            "[2025-08-18 10:11:22] [INFO] 🔗 Required Referrals: 1\n",
            "[2025-08-18 10:11:22] [INFO] 📱 Data Amount: 2GB\n",
            "[2025-08-18 10:11:22] [INFO] Bot validated: Data Donar (@Data_donar_bot)\n",
            "[2025-08-18 10:11:22] [INFO] Database initialized successfully\n",
            "[2025-08-18 10:11:22] [INFO] ✅ Bot is running... Press Ctrl+C to stop\n"
          ]
        }
      ]
    }
  ]
}